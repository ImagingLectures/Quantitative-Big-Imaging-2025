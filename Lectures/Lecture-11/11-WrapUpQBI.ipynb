{
 "cells": [
  {
   "cell_type": "markdown",
   "id": "ea6e7eea",
   "metadata": {
    "slideshow": {
     "slide_type": "notes"
    }
   },
   "source": [
    "# Wrapping up QBI"
   ]
  },
  {
   "cell_type": "markdown",
   "id": "1fb200e0",
   "metadata": {
    "slideshow": {
     "slide_type": "slide"
    }
   },
   "source": [
    "<h1>Wrapping up QBI</h1>\n",
    "\n",
    "<p>\n",
    "<b>Quantitative Big Imaging - ETHZ: 227-0966-00L</b>\n",
    "<br />\n",
    "</p>\n",
    "<br />\n",
    "<p style=\"font-size:1em;\">May 15, 2025</p>\n",
    "<br /><br />\n",
    "<p style=\"font-size:1.5em;padding-bottom: 0.25em;\">Anders Kaestner</p>  \n",
    "<p style=\"font-size:1em;\">Laboratory for Neutron Scattering and Imaging<br />Paul Scherrer Institut</p>"
   ]
  },
  {
   "cell_type": "markdown",
   "id": "e3f2f4fc",
   "metadata": {
    "slideshow": {
     "slide_type": "slide"
    }
   },
   "source": [
    "## Why QBI?\n",
    "\n",
    "\n",
    "__We have experimental data__\n",
    "- Great amounts\n",
    "- Limited time\n",
    "- Limited manpower\n",
    "\n",
    "__We want to publish it__\n",
    "- Quantitative analysis\n",
    "- Reliable\n",
    "- Repeatable\n",
    "- Efficent automated workflows"
   ]
  },
  {
   "cell_type": "markdown",
   "id": "f12d405c",
   "metadata": {
    "slideshow": {
     "slide_type": "slide"
    }
   },
   "source": [
    "## Objectives\n",
    "\n",
    "We need to understand the components of QBI\n",
    "- The data creation\n",
    "- Image processing and analysis methods\n",
    "- Working with data\n",
    "- Some computer science/engineering\n",
    "- How to present the results\n"
   ]
  },
  {
   "cell_type": "markdown",
   "id": "e589d59b",
   "metadata": {
    "slideshow": {
     "slide_type": "slide"
    }
   },
   "source": [
    "## The work flow\n",
    "\n",
    "<img src=\"figures/all_icons.svg\" style=\"height:200px\"/>"
   ]
  },
  {
   "cell_type": "markdown",
   "id": "a100e954",
   "metadata": {
    "slideshow": {
     "slide_type": "slide"
    }
   },
   "source": [
    "## Lecture 1 - Image basics\n",
    "\n",
    "- What is an image?\n",
    "- Pixelwise operations\n",
    "- The histogram"
   ]
  },
  {
   "cell_type": "markdown",
   "id": "c68c5e1c",
   "metadata": {
    "slideshow": {
     "slide_type": "slide"
    }
   },
   "source": [
    "## Lecture 2 - Data sets and validation\n",
    "\n",
    "- Using prepared data\n",
    "- What is a good data set\n",
    "- Analysis validation workflow\n",
    "- Ground truth"
   ]
  },
  {
   "cell_type": "markdown",
   "id": "5ff91194",
   "metadata": {
    "slideshow": {
     "slide_type": "slide"
    }
   },
   "source": [
    "## Lecture 3 - Image enhancement\n",
    "\n",
    "- Noise\n",
    "- Reducing noise\n",
    "- Enhancing image features\n",
    "- Orientation analysis\n",
    "- Filter performance analysis"
   ]
  },
  {
   "cell_type": "markdown",
   "id": "9f6d36a2",
   "metadata": {
    "slideshow": {
     "slide_type": "slide"
    }
   },
   "source": [
    "## Lecture 4 - Basic segmentation\n",
    "- How are images formed \n",
    "- What is a change in contrast\n",
    "- How to apply thresholds\n",
    "    - Using the histogram "
   ]
  },
  {
   "cell_type": "markdown",
   "id": "93e7bff5",
   "metadata": {
    "slideshow": {
     "slide_type": "slide"
    }
   },
   "source": [
    "## Lecture 5 - Advanced segmentation\n",
    "\n",
    "- Methods to automatically find thresholds\n",
    "- Unsupervised methods\n",
    "    - Histogram based\n",
    "    - Clustering\n",
    "- Supervised methods\n",
    "    - The need for ground truth\n",
    "    - Training\n",
    "    - Prediction"
   ]
  },
  {
   "cell_type": "markdown",
   "id": "318167c8",
   "metadata": {
    "slideshow": {
     "slide_type": "slide"
    }
   },
   "source": [
    "## Lecture 6 - Shape analysis\n",
    "- Component labelling\n",
    "- Shape properties\n",
    "- Textures\n"
   ]
  },
  {
   "cell_type": "markdown",
   "id": "ad79931a",
   "metadata": {
    "slideshow": {
     "slide_type": "slide"
    }
   },
   "source": [
    "## Lecture 7 - Complex shape\n",
    "- Particle clouds\n",
    "- Segmentation of touching objects\n",
    "- Skeletons"
   ]
  },
  {
   "cell_type": "markdown",
   "id": "0e3a7220",
   "metadata": {
    "slideshow": {
     "slide_type": "slide"
    }
   },
   "source": [
    "## Lecture 8 - Statistics\n",
    "- Uncertainties in the analysis\n",
    "- Probabilty \n",
    "- Implications of statistical analysis\n",
    "\n",
    "\n",
    "- Presenting the results in graphs"
   ]
  },
  {
   "cell_type": "markdown",
   "id": "561f9048",
   "metadata": {
    "slideshow": {
     "slide_type": "slide"
    }
   },
   "source": [
    "## Lecture 9 - Dynamic experiments\n",
    "- Different types of dynamic experiments \n",
    "- Time series analysis\n",
    "    - Tracking\n",
    "    - Registration"
   ]
  },
  {
   "cell_type": "markdown",
   "id": "365186ee",
   "metadata": {
    "slideshow": {
     "slide_type": "slide"
    }
   },
   "source": [
    "## Lecture 10 - Multiple modalities\n",
    "### Multi modality imaging\n",
    "Can we gain more information with additional image sources\n",
    "- Modality combinations\n",
    "- Registration\n",
    "- Data fusion\n",
    "\n",
    "### Software engineering\n",
    "- Unit testing \n",
    "- Working with repositories\n",
    "- Continuous integration"
   ]
  },
  {
   "cell_type": "markdown",
   "id": "8dd514fc",
   "metadata": {
    "slideshow": {
     "slide_type": "slide"
    }
   },
   "source": [
    "## Lecture 11 - Scaling up\n",
    "- Parallel processing\n",
    "- Distributed computing\n",
    "- DAGs"
   ]
  },
  {
   "cell_type": "markdown",
   "id": "f1324559",
   "metadata": {
    "slideshow": {
     "slide_type": "slide"
    }
   },
   "source": [
    "## Projects"
   ]
  },
  {
   "cell_type": "markdown",
   "id": "1094c3ef",
   "metadata": {
    "ExecuteTime": {
     "end_time": "2023-05-09T19:16:31.967628Z",
     "start_time": "2023-05-09T19:16:31.951374Z"
    }
   },
   "source": [
    "### Project Overview\n",
    "- Scientifically driven project clear question\n",
    "    - Not only count number of bubbles in system\n",
    "    - Rather: Does temperature affect bubble size?\n",
    "- Take images through appropriate processing steps\n",
    "- Characterize parameter space and error sources\n",
    "- Short presentation on __Thursday May 22nd__\n",
    "    - 10 minutes depending on number of students who present\n",
    "    - Problem\n",
    "    - Solution\n",
    "    - Key Findings\n",
    "\n",
    "[A list of projects](https://imaginglectures.github.io/Quantitative-Big-Imaging-2023/projectoverview.html)"
   ]
  },
  {
   "cell_type": "markdown",
   "id": "c7c97b5d",
   "metadata": {
    "slideshow": {
     "slide_type": "slide"
    }
   },
   "source": [
    "### Project support\n",
    "\n",
    "- There are no more QBI lectures!\n",
    "- Make appointments with Daniel or Anders for consultation."
   ]
  },
  {
   "cell_type": "code",
   "execution_count": null,
   "id": "dff561a9",
   "metadata": {},
   "outputs": [],
   "source": []
  }
 ],
 "metadata": {
  "celltoolbar": "Slideshow",
  "kernelspec": {
   "display_name": "Python 3 (ipykernel)",
   "language": "python",
   "name": "python3"
  },
  "language_info": {
   "codemirror_mode": {
    "name": "ipython",
    "version": 3
   },
   "file_extension": ".py",
   "mimetype": "text/x-python",
   "name": "python",
   "nbconvert_exporter": "python",
   "pygments_lexer": "ipython3",
   "version": "3.9.22"
  },
  "rise": {
   "autolaunch": true,
   "enable_chalkboard": true,
   "footer": "May 15, 2025 - ETH 227-0966-00L: Quantitative Big Imaging/Scaling up and big data",
   "header": "<table width='100%' style='margin: 0px;'><tr><td align='left'><img src='../../common/figures/eth_logo_kurz_pos.svg' style='height:30px;'></td><td align='right'><img src='../../common/figures/PSI-Logo.svg' style='height:50px;'></td></tr></table>",
   "scroll": true
  },
  "varInspector": {
   "cols": {
    "lenName": 16,
    "lenType": 16,
    "lenVar": 40
   },
   "kernels_config": {
    "python": {
     "delete_cmd_postfix": "",
     "delete_cmd_prefix": "del ",
     "library": "var_list.py",
     "varRefreshCmd": "print(var_dic_list())"
    },
    "r": {
     "delete_cmd_postfix": ") ",
     "delete_cmd_prefix": "rm(",
     "library": "var_list.r",
     "varRefreshCmd": "cat(var_dic_list()) "
    }
   },
   "types_to_exclude": [
    "module",
    "function",
    "builtin_function_or_method",
    "instance",
    "_Feature"
   ],
   "window_display": false
  }
 },
 "nbformat": 4,
 "nbformat_minor": 5
}
