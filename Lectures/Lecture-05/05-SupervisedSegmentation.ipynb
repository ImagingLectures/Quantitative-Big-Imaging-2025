version https://git-lfs.github.com/spec/v1
oid sha256:fcca807eb38ac435379c14b1497c2b18e8a3b132a98b12a47289f6eb254c5830
size 21538182
