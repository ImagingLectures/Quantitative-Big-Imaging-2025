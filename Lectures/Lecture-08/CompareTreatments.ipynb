{
 "cells": [
  {
   "cell_type": "code",
   "execution_count": null,
   "id": "89cc36d4",
   "metadata": {},
   "outputs": [],
   "source": [
    "import numpy as np\n",
    "import matplotlib.pyplot as plt\n",
    "import pointcloud as pc\n",
    "import importlib\n",
    "%config InlineBackend.figure_format = 'retina'\n",
    "\n",
    "dcolors = plt.rcParams['axes.prop_cycle'].by_key()['color']\n"
   ]
  },
  {
   "cell_type": "code",
   "execution_count": null,
   "id": "31067d46",
   "metadata": {},
   "outputs": [],
   "source": [
    "importlib.reload(pc)\n",
    "samples_A = [np.random.rand(100, 2) for _ in range(10)]\n",
    "samples_B = [np.random.normal(0.5, 0.2, size=(100, 2)) for _ in range(10)]\n",
    "\n",
    "result = pc.compare_treatments_with_voronoi(samples_A, samples_B, test=\"t-test\",plot=True)"
   ]
  },
  {
   "cell_type": "markdown",
   "id": "fd8582ae",
   "metadata": {},
   "source": [
    "# Lecture material"
   ]
  },
  {
   "cell_type": "markdown",
   "id": "83afc025",
   "metadata": {},
   "source": [
    "## Introduce hypothesis testing"
   ]
  },
  {
   "cell_type": "code",
   "execution_count": null,
   "id": "16107ba8",
   "metadata": {},
   "outputs": [],
   "source": []
  },
  {
   "cell_type": "markdown",
   "id": "06e99451",
   "metadata": {},
   "source": [
    "## Coin example"
   ]
  },
  {
   "cell_type": "code",
   "execution_count": null,
   "id": "1fd2bdb9",
   "metadata": {},
   "outputs": [],
   "source": []
  },
  {
   "cell_type": "markdown",
   "id": "92b51791",
   "metadata": {},
   "source": [
    "## Explain p-value"
   ]
  },
  {
   "cell_type": "code",
   "execution_count": null,
   "id": "198a345b",
   "metadata": {},
   "outputs": [],
   "source": []
  },
  {
   "cell_type": "markdown",
   "id": "9054105f",
   "metadata": {},
   "source": [
    "## Intraclass correlation"
   ]
  },
  {
   "cell_type": "markdown",
   "id": "f587aee4",
   "metadata": {},
   "source": [
    "### Flower example"
   ]
  },
  {
   "cell_type": "markdown",
   "id": "e8d6baac",
   "metadata": {},
   "source": [
    "## A statistical study from images"
   ]
  },
  {
   "cell_type": "markdown",
   "id": "a952ce42",
   "metadata": {},
   "source": [
    "### Setting the stage"
   ]
  },
  {
   "cell_type": "markdown",
   "id": "cc41eaa8",
   "metadata": {
    "hide_input": true,
    "slideshow": {
     "slide_type": "slide"
    }
   },
   "source": [
    "#### Recap from last weeks lecture\n",
    "We saw that a  cell culture can be reduced to point cloud\n",
    "- Voronoi tesselation\n",
    "- Area distribution "
   ]
  },
  {
   "cell_type": "code",
   "execution_count": null,
   "id": "55841cdd",
   "metadata": {},
   "outputs": [],
   "source": [
    "intensity_control = 5.5\n",
    "intensity_treatment = 6.0"
   ]
  },
  {
   "cell_type": "code",
   "execution_count": null,
   "id": "a0bdec39",
   "metadata": {
    "hide_input": false
   },
   "outputs": [],
   "source": [
    "importlib.reload(pc)\n",
    "\n",
    "fig,ax = plt.subplots(2,3,figsize=(10,7))  \n",
    "dpoints=pc.point_field(intensity=intensity_control,ax=ax[0,0],title='Control culture',seed=100,plot=True)\n",
    "lpoints=pc.point_field(intensity=intensity_treatment,ax=ax[1,0], title='Treatment culture',seed=200,plot=True)\n",
    "\n",
    "from scipy.spatial import Voronoi, voronoi_plot_2d\n",
    "dvor = Voronoi(dpoints)\n",
    "dA=pc.compute_region_areas(dvor)\n",
    "dA = dA[~np.isnan(dA)]\n",
    "# dA=dA[dA<1.5]\n",
    "\n",
    "lims = [3,6]\n",
    "voronoi_plot_2d(dvor,show_points=True, show_vertices=False,ax=ax[0,1])\n",
    "ax[0,1].set_aspect('equal')\n",
    "ax[0,1].set_xlim(lims)\n",
    "ax[0,1].set_ylim(lims)\n",
    "ax[0,1].set_title('Voronoi tesselation of points')\n",
    "\n",
    "ax[0,2].hist(dA,range=[0,3],bins=50);\n",
    "ax[0,2].set_title('Histogram of region areas')\n",
    "\n",
    "lvor = Voronoi(lpoints)\n",
    "lA=pc.compute_region_areas(lvor)\n",
    "lA = lA[~np.isnan(lA)]\n",
    "# lA=lA[lA<1.5]\n",
    "voronoi_plot_2d(lvor,show_points=True, show_vertices=False,ax=ax[1,1])\n",
    "ax[1,1].set_aspect('equal')\n",
    "ax[1,1].set_xlim(lims)\n",
    "ax[1,1].set_ylim(lims)\n",
    "ax[1,1].set_title('Voronoi tesselation of points')\n",
    "\n",
    "ax[1,2].hist(lA,range=[0,3],bins=50);\n",
    "ax[1,2].set_title('Histogram of region areas')\n",
    "plt.tight_layout()"
   ]
  },
  {
   "cell_type": "markdown",
   "id": "1d0dff85",
   "metadata": {
    "slideshow": {
     "slide_type": "slide"
    }
   },
   "source": [
    "## Comparing samples"
   ]
  },
  {
   "cell_type": "markdown",
   "id": "5d038c28",
   "metadata": {
    "slideshow": {
     "slide_type": "slide"
    }
   },
   "source": [
    "### Use the ICC to compare two samples"
   ]
  },
  {
   "cell_type": "code",
   "execution_count": null,
   "id": "742b5866",
   "metadata": {},
   "outputs": [],
   "source": [
    "importlib.reload(pc)\n",
    "m=np.array([lA.mean(),dA.mean()])\n",
    "s=np.array([lA.std(),dA.std()])\n",
    "\n",
    "pc.icc(m,s)"
   ]
  },
  {
   "cell_type": "markdown",
   "id": "54dcffbb",
   "metadata": {},
   "source": [
    "#### Not very separated"
   ]
  },
  {
   "cell_type": "markdown",
   "id": "d8465adf",
   "metadata": {},
   "source": [
    "With a ICC of this magnitude we can conclude that the two cultures are not differing very much. Let's see what our hypothesis testing tells us. This can naturally also be confirmed by looking at the histograms; they are more or less overlapping. "
   ]
  },
  {
   "cell_type": "markdown",
   "id": "306649c4",
   "metadata": {
    "slideshow": {
     "slide_type": "slide"
    }
   },
   "source": [
    "### Can the t-test help us?\n",
    "\n",
    "Let's try the t-test on the region areas \n",
    "\n",
    "$\\mathcal{H}_0$: There is no difference between the cultures in the region area\n"
   ]
  },
  {
   "cell_type": "code",
   "execution_count": null,
   "id": "27864c2a",
   "metadata": {
    "scrolled": false
   },
   "outputs": [],
   "source": [
    "from scipy.stats import ttest_ind\n",
    "\n",
    "stat, p_value = ttest_ind(dA, lA, equal_var=False)\n",
    "\n",
    "print(f\"p-value: {p_value:.4f}\")"
   ]
  },
  {
   "cell_type": "markdown",
   "id": "eaf1cf0d",
   "metadata": {
    "hide_input": false
   },
   "source": [
    "We confirm the null-hypothesis that there is no difference between the two samples. "
   ]
  },
  {
   "cell_type": "markdown",
   "id": "23d1c4ae",
   "metadata": {
    "slideshow": {
     "slide_type": "slide"
    }
   },
   "source": [
    "#### Outliers biasing the hypothesis test\n",
    "We observe that there are some extreme outliers in the data. Let's prune..."
   ]
  },
  {
   "cell_type": "code",
   "execution_count": null,
   "id": "d5a45836",
   "metadata": {
    "hide_input": false
   },
   "outputs": [],
   "source": [
    "lAc=lA[lA<2]\n",
    "dAc=dA[dA<2]"
   ]
  },
  {
   "cell_type": "code",
   "execution_count": null,
   "id": "16a24187",
   "metadata": {
    "hide_input": false,
    "scrolled": false
   },
   "outputs": [],
   "source": [
    "\n",
    "fig,ax=plt.subplots(1,2,figsize=(12,4))\n",
    "ax[0].hist(lA,range=[0,1.5],bins=50,alpha=0.5);\n",
    "ax[0].axvline(np.mean(lA),color=dcolors[0])\n",
    "ax[0].hist(dA,range=[0,1.5],bins=50,alpha=0.5);\n",
    "ax[0].axvline(np.mean(dA),color=dcolors[1]);\n",
    "ax[0].set_title('All data points')\n",
    "\n",
    "ax[1].hist(lAc,range=[0,1.5],bins=50,alpha=0.5);\n",
    "ax[1].axvline(np.mean(lAc),color=dcolors[0])\n",
    "ax[1].hist(dAc,range=[0,1.5],bins=50,alpha=0.5);\n",
    "ax[1].axvline(np.mean(dAc),color=dcolors[1]);\n",
    "ax[1].set_title('Pruned data points');"
   ]
  },
  {
   "cell_type": "code",
   "execution_count": null,
   "id": "7250371c",
   "metadata": {},
   "outputs": [],
   "source": [
    "stat, p_value = ttest_ind(dAc, lAc, equal_var=False)\n",
    "\n",
    "print(f\"p-value: {p_value:.4f}\")"
   ]
  },
  {
   "cell_type": "markdown",
   "id": "991397eb",
   "metadata": {
    "slideshow": {
     "slide_type": "notes"
    }
   },
   "source": [
    "#### What’s Really Happening?\n",
    "\n",
    "Outliers increase variance, and the t-test depends on the ratio:\n",
    "\n",
    "$$\n",
    "\\displaystyle\n",
    "t=\\frac{\\text{difference in means}}{\\text{pooled standard error}}\n",
    "$$\n",
    " \n",
    "→ Higher variance → larger denominator → smaller t → higher p-value\n",
    "\n",
    "So outliers can dilute the test’s power and hide real effects.\n",
    "\n",
    "#### Key Takeaway\n",
    "Outliers can obscure true group differences. But you shouldn’t blindly remove them — it depends on context. In this particular case we know that voronoi regions at the boundary are infinite of very large. What we should have done here is to crop the regions at the image boundary. The cropping would of course also introduce an error. So, it is important to decide wether you can accept reducing the number of points or if the cropping is acceptable. "
   ]
  },
  {
   "cell_type": "markdown",
   "id": "b5187393",
   "metadata": {
    "slideshow": {
     "slide_type": "slide"
    }
   },
   "source": [
    "### The Kolmogorov-Smirnov test"
   ]
  },
  {
   "cell_type": "markdown",
   "id": "0f8e3cc8",
   "metadata": {},
   "source": [
    "In statistics, the Kolmogorov–Smirnov test (also K–S test or KS test) is a nonparametric test of the equality of continuous one-dimensional probability distributions. \n",
    "\n",
    "It can be used to test whether \n",
    "- a sample came from a given reference probability distribution (one-sample K–S test), or\n",
    "- two samples came from the same distribution (two-sample K–S test)"
   ]
  },
  {
   "cell_type": "markdown",
   "id": "ba3efb68",
   "metadata": {
    "hide_input": true,
    "slideshow": {
     "slide_type": "notes"
    }
   },
   "source": [
    "Intuitively, it provides a method to answer the question \"How likely is it that we would see a collection of samples like this if they were drawn from that probability distribution?\" or, in the second case, \"How likely is it that we would see two sets of samples like this if they were drawn from the same (but unknown) probability distribution?\""
   ]
  },
  {
   "cell_type": "code",
   "execution_count": null,
   "id": "348970f5",
   "metadata": {
    "hide_input": false,
    "scrolled": false
   },
   "outputs": [],
   "source": [
    "importlib.reload(pc)\n",
    "import numpy as np\n",
    "import matplotlib.pyplot as plt\n",
    "from scipy.stats import ks_2samp\n",
    "dcolors = plt.rcParams['axes.prop_cycle'].by_key()['color']\n",
    "\n",
    "# Generate two synthetic samples\n",
    "np.random.seed(42)\n",
    "N=2000\n",
    "sample_A = np.random.normal(0, 1, N)\n",
    "sample_B = np.random.normal(0.1, 1, N)  # Shifted mean\n",
    "sample_C = np.random.normal(0.5, 1, N)  # Shifted mean\n",
    "\n",
    "fig,ax = plt.subplots(1,2,figsize=(12,4))\n",
    "\n",
    "pc.plot_ks_test(sample_A,sample_B,ax[0])\n",
    "pc.plot_ks_test(sample_A,sample_C,ax[1])\n",
    "\n",
    "\n"
   ]
  },
  {
   "cell_type": "markdown",
   "id": "b012f775",
   "metadata": {
    "slideshow": {
     "slide_type": "slide"
    }
   },
   "source": [
    "### Use the KS test to compare two cultures"
   ]
  },
  {
   "cell_type": "code",
   "execution_count": null,
   "id": "b3871e80",
   "metadata": {
    "scrolled": false
   },
   "outputs": [],
   "source": [
    "pc.plot_ks_test(lA,dA,xlim=[0,1])"
   ]
  },
  {
   "cell_type": "markdown",
   "id": "0c986b94",
   "metadata": {
    "slideshow": {
     "slide_type": "slide"
    }
   },
   "source": [
    "## Comparing treatments\n",
    "\n",
    "Comparing one sample from each treatment is not sufficient\n",
    "- There are natural variations in each sample\n",
    "- The test outcome relies on luck like tossing a coin\n",
    "\n",
    "A scientific requires many samples from each treatment.\n",
    "\n",
    "Revise our hypothesis:\n",
    "$\\mathcal{H}_0$: Do treatment A and treatment B produce systematically different spatial patterns across replicates\n",
    "\n",
    "But this time increase the population"
   ]
  },
  {
   "cell_type": "markdown",
   "id": "b9d0d866",
   "metadata": {
    "slideshow": {
     "slide_type": "slide"
    }
   },
   "source": [
    "### Produce data for the example\n",
    "\n",
    "We generate two populations\n",
    "- Gaussian distribution of the sample point intensity\n",
    "- 10 samples in each population"
   ]
  },
  {
   "cell_type": "code",
   "execution_count": null,
   "id": "27766cf2",
   "metadata": {
    "hide_input": false
   },
   "outputs": [],
   "source": [
    "from scipy.stats import norm\n",
    "\n",
    "# Define range and parameters\n",
    "x = np.linspace(2, 10, 500)\n",
    "mu = [5.75, 6]      # Mean\n",
    "sigma = [1,1]   # Standard deviation\n",
    "\n",
    "# Compute Gaussian PDF\n",
    "y0 = norm.pdf(x, mu[0], sigma[0])\n",
    "y1 = norm.pdf(x, mu[1], sigma[1])\n",
    "\n",
    "# Plot\n",
    "plt.figure(figsize=(8, 4))\n",
    "plt.plot(x, y0, label=r'Control $\\mathcal{N}$('+'{0:0.2f}, {1:0.1f})'.format(mu[0],sigma[0]), lw=2)\n",
    "plt.plot(x, y1, label=r'Treatment $\\mathcal{N}$'+'({0:0.2f}, {1:0.1f})'.format(mu[1],sigma[1]), lw=2)\n",
    "plt.title('Standard Gaussian Bell Curve')\n",
    "plt.xlabel('x')\n",
    "plt.ylabel('Probability Density')\n",
    "plt.grid(True)\n",
    "plt.legend()\n",
    "plt.tight_layout()"
   ]
  },
  {
   "cell_type": "markdown",
   "id": "2bc9738b",
   "metadata": {},
   "source": [
    "Can we separate them using the area of the Voronoi regions?"
   ]
  },
  {
   "cell_type": "markdown",
   "id": "0d1bde3e",
   "metadata": {
    "slideshow": {
     "slide_type": "slide"
    }
   },
   "source": [
    "### Generate the points\n",
    "1. Generate the point clouds\n",
    "2. Compute Voronoi region areas"
   ]
  },
  {
   "cell_type": "code",
   "execution_count": null,
   "id": "1027aa1c",
   "metadata": {
    "scrolled": true
   },
   "outputs": [],
   "source": [
    "importlib.reload(pc)\n",
    "nSamples = 10\n",
    "np.random.seed(seed=42)\n",
    "samples_control   = np.random.normal(5.75, 1, size=nSamples) \n",
    "samples_treatment = np.random.normal(6.0, 1, size=nSamples)\n",
    "width, height = 10,10\n",
    "threshold=1.5\n",
    "\n",
    "def compute_area_in_samples(samples, width,height, threshold) :\n",
    "    A = []\n",
    "    points = []\n",
    "    for intensity in samples : \n",
    "        points.append(pc.point_field(intensity=intensity,width=width,height=height)) \n",
    "        a=pc.clipped_voronoi_areas(points[-1], bounding_box=(0, width, 0, height))\n",
    "        a=a[a<threshold]\n",
    "        A.append(a)\n",
    "    return A,points\n",
    "\n",
    "A_control,p_control     = compute_area_in_samples(samples_control, width=width,height=height,threshold=threshold)\n",
    "A_treatment,p_treatment = compute_area_in_samples(samples_treatment, width=width,height=height,threshold=threshold)"
   ]
  },
  {
   "cell_type": "code",
   "execution_count": null,
   "id": "bb7aad40",
   "metadata": {
    "hide_input": false,
    "scrolled": false
   },
   "outputs": [],
   "source": [
    "nPanels = 5\n",
    "fig,axes=plt.subplots(2,nPanels,figsize=(15,6))\n",
    "\n",
    "for ax,p in zip(axes[0],p_control[:nPanels]) :\n",
    "    ax.scatter(p[:,1],p[:,0],s=0.5)\n",
    "    ax.set_aspect('equal')\n",
    "    \n",
    "axes[0,0].set_ylabel('Control')\n",
    "    \n",
    "for ax,p in zip(axes[1],p_treatment[:nPanels]) :\n",
    "    ax.scatter(p[:,1],p[:,0],s=0.5)\n",
    "    ax.set_aspect('equal')\n",
    "\n",
    "axes[1,0].set_ylabel('Treatment');"
   ]
  },
  {
   "cell_type": "markdown",
   "id": "02c742c4",
   "metadata": {
    "slideshow": {
     "slide_type": "slide"
    }
   },
   "source": [
    "### Compare the populations"
   ]
  },
  {
   "cell_type": "code",
   "execution_count": null,
   "id": "fe5dfd04",
   "metadata": {},
   "outputs": [],
   "source": [
    "stat_func = np.mean\n",
    "avg_control   = np.array([stat_func(s) for s in A_control])\n",
    "avg_treatment = np.array([stat_func(s) for s in A_treatment])\n",
    "\n",
    "stat, p_value = ttest_ind(avg_control, avg_treatment, equal_var=False)"
   ]
  },
  {
   "cell_type": "code",
   "execution_count": null,
   "id": "3154d216",
   "metadata": {
    "hide_input": false,
    "scrolled": false
   },
   "outputs": [],
   "source": [
    "nBins = 5\n",
    "plt.hist(avg_control,bins=nBins,alpha=0.5,range=[0.1,0.3], label='Control')\n",
    "plt.hist(avg_treatment,bins=nBins,alpha=0.5,range=[0.1,0.3], label='Treatment');\n",
    "plt.xlabel('Average region area')\n",
    "plt.ylabel('Counts');\n",
    "plt.legend()\n",
    "plt.title('p-value={0:0.3f}'.format(p_value));"
   ]
  },
  {
   "cell_type": "markdown",
   "id": "a32111d4",
   "metadata": {},
   "source": [
    "Conclusion: given the data our t-test tells us to reject the null-hypothesis"
   ]
  },
  {
   "cell_type": "markdown",
   "id": "6f0597be",
   "metadata": {
    "slideshow": {
     "slide_type": "slide"
    }
   },
   "source": [
    "### Let's try the KS-test"
   ]
  },
  {
   "cell_type": "code",
   "execution_count": null,
   "id": "bd67aedc",
   "metadata": {
    "scrolled": false
   },
   "outputs": [],
   "source": [
    "importlib.reload(pc)\n",
    "pc.plot_ks_test(avg_control,avg_treatment,xlim=[0,1])"
   ]
  },
  {
   "cell_type": "markdown",
   "id": "f3b048f9",
   "metadata": {
    "slideshow": {
     "slide_type": "slide"
    }
   },
   "source": [
    "#### When is the KS-test reliable?"
   ]
  },
  {
   "cell_type": "markdown",
   "id": "0d8eaf2d",
   "metadata": {
    "slideshow": {
     "slide_type": "notes"
    }
   },
   "source": [
    "We saw in this example that the KS-test delivered a very different p-value compared with the t-test. The following table shows when it makes sense to use the KS-test. In our case we only had ten samples to compare."
   ]
  },
  {
   "cell_type": "markdown",
   "id": "28c5377f",
   "metadata": {
    "slideshow": {
     "slide_type": "-"
    }
   },
   "source": [
    "| Sample Size | Suitability for KS Test |\n",
    "|---|:--|\n",
    "|< 20|Use with caution; very low power|\n",
    "|20–50|Can work for large or obvious differences|\n",
    "|≥ 50|Reasonable reliability for moderate differences|\n",
    "|≥ 100|Good power and reliable p-values|\n",
    "|≥ 1000|Very sensitive — may detect tiny, even irrelevant differences|"
   ]
  },
  {
   "cell_type": "code",
   "execution_count": null,
   "id": "d109cbb8",
   "metadata": {},
   "outputs": [],
   "source": [
    "importlib.reload(pc)\n",
    "vSamples=[5,10,20,50,100,200]\n",
    "pvals = pc.test_samples_pvalues(vSamples =vSamples, seed=42) "
   ]
  },
  {
   "cell_type": "code",
   "execution_count": null,
   "id": "8ec3b040",
   "metadata": {},
   "outputs": [],
   "source": [
    "plt.semilogy(vSamples,pvals)\n",
    "plt.gca().set(title=\"p-values study\", xlabel='Number of samples in the study', ylabel='p-value')\n",
    "plt.savefig('figures/samples_vs_pvals.png',dpi=300)"
   ]
  },
  {
   "cell_type": "code",
   "execution_count": null,
   "id": "4b807482",
   "metadata": {},
   "outputs": [],
   "source": [
    "import matplotlib.pyplot as plt\n",
    "from scipy.stats import norm\n",
    "\n",
    "# Define range and parameters\n",
    "x = np.linspace(2, 10, 500)\n",
    "mu = [5.75, 6]      # Mean\n",
    "sigma = [1,1]   # Standard deviation\n",
    "\n",
    "# Compute Gaussian PDF\n",
    "y0 = norm.pdf(x, mu[0], sigma[0])\n",
    "y1 = norm.pdf(x, mu[1], sigma[1])\n",
    "\n",
    "# Plot\n",
    "plt.figure(figsize=(8, 4))\n",
    "plt.plot(x, y0, label=r'Control $\\mathcal{N}$('+'{0:0.2f}, {1:0.1f})'.format(mu[0],sigma[0]), lw=2)\n",
    "plt.plot(x, y1, label=r'Treatment $\\mathcal{N}$'+'({0:0.2f}, {1:0.1f})'.format(mu[1],sigma[1]), lw=2)\n",
    "plt.title('Standard Gaussian Bell Curve')\n",
    "plt.xlabel('x')\n",
    "plt.ylabel('Probability Density')\n",
    "plt.grid(True)\n",
    "plt.legend()\n",
    "plt.tight_layout()"
   ]
  },
  {
   "cell_type": "code",
   "execution_count": null,
   "id": "1f243a2c",
   "metadata": {},
   "outputs": [],
   "source": []
  }
 ],
 "metadata": {
  "celltoolbar": "Slideshow",
  "kernelspec": {
   "display_name": "Python 3 (ipykernel)",
   "language": "python",
   "name": "python3"
  },
  "language_info": {
   "codemirror_mode": {
    "name": "ipython",
    "version": 3
   },
   "file_extension": ".py",
   "mimetype": "text/x-python",
   "name": "python",
   "nbconvert_exporter": "python",
   "pygments_lexer": "ipython3",
   "version": "3.9.21"
  }
 },
 "nbformat": 4,
 "nbformat_minor": 5
}
