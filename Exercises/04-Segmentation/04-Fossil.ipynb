version https://git-lfs.github.com/spec/v1
oid sha256:ae152d373010cfe7cfa1d1defa911b2f19cac5bd23094446fcb6228a61104de9
size 805086
